{
 "cells": [
  {
   "cell_type": "code",
   "execution_count": 11,
   "id": "b1842fe5",
   "metadata": {},
   "outputs": [
    {
     "name": "stdout",
     "output_type": "stream",
     "text": [
      "Enter nth number after decimal upto which pi shows5\n"
     ]
    },
    {
     "data": {
      "text/plain": [
       "3.14159"
      ]
     },
     "execution_count": 11,
     "metadata": {},
     "output_type": "execute_result"
    }
   ],
   "source": [
    "#pi upto nth number\n",
    "import math\n",
    "def pinum():\n",
    "    n=int(input(\"Enter nth number after decimal upto which pi shows\"))\n",
    "    m=int(math.pi*(10**n))\n",
    "    f=float(m/(10**n))\n",
    "    return f\n",
    "    \n",
    "pinum()"
   ]
  },
  {
   "cell_type": "code",
   "execution_count": 4,
   "id": "1affe068",
   "metadata": {},
   "outputs": [
    {
     "name": "stdout",
     "output_type": "stream",
     "text": [
      "Enter nth number after decimal upto which e shows:5\n"
     ]
    },
    {
     "data": {
      "text/plain": [
       "2.71828"
      ]
     },
     "execution_count": 4,
     "metadata": {},
     "output_type": "execute_result"
    }
   ],
   "source": [
    "#e upto nth number\n",
    "import math\n",
    "def enum():\n",
    "    n=int(input(\"Enter nth number after decimal upto which e shows:\"))\n",
    "    m=int(math.e*(10**n))\n",
    "    f=float(m/(10**n))\n",
    "    return f\n",
    "    \n",
    "enum()\n"
   ]
  },
  {
   "cell_type": "code",
   "execution_count": 19,
   "id": "d8170380",
   "metadata": {},
   "outputs": [
    {
     "name": "stdout",
     "output_type": "stream",
     "text": [
      "Enter nth terms:5\n",
      "1\n",
      "1\n",
      "2\n",
      "3\n",
      "5\n",
      "8\n"
     ]
    }
   ],
   "source": [
    "#Fibonnaci sequence\n",
    "def fibo():\n",
    "    n=int(input(\"Enter nth terms:\"))\n",
    "    a=0\n",
    "    b=1\n",
    "    for i in range(0,n+1):\n",
    "        a,b=b,a+b\n",
    "        print(a)\n",
    "fibo()"
   ]
  },
  {
   "cell_type": "code",
   "execution_count": null,
   "id": "10cc07c5",
   "metadata": {},
   "outputs": [],
   "source": []
  },
  {
   "cell_type": "code",
   "execution_count": null,
   "id": "773e823c",
   "metadata": {},
   "outputs": [],
   "source": []
  }
 ],
 "metadata": {
  "kernelspec": {
   "display_name": "Python 3",
   "language": "python",
   "name": "python3"
  },
  "language_info": {
   "codemirror_mode": {
    "name": "ipython",
    "version": 3
   },
   "file_extension": ".py",
   "mimetype": "text/x-python",
   "name": "python",
   "nbconvert_exporter": "python",
   "pygments_lexer": "ipython3",
   "version": "3.8.8"
  }
 },
 "nbformat": 4,
 "nbformat_minor": 5
}
