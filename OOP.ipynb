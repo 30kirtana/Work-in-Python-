{
 "cells": [
  {
   "cell_type": "code",
   "execution_count": 27,
   "id": "dce60166",
   "metadata": {},
   "outputs": [],
   "source": [
    "#OOP homework\n",
    "class Line:\n",
    "    \n",
    "    def __init__(self,coor1,coor2):\n",
    "        self.a=coor1[0]\n",
    "        self.b=coor1[1]\n",
    "        self.c=coor2[0]\n",
    "        self.d=coor2[1]\n",
    "    \n",
    "    def distance(self):\n",
    "        dis=((self.c-self.a)**2+(self.d-self.b)**2)**0.5\n",
    "        return dis\n",
    "    \n",
    "    def slope(self):\n",
    "        sl = (self.d-self.b)/(self.c-self.a)\n",
    "        return sl\n",
    "    def __str__(self):\n",
    "        return f\"{self.distance()} is the distance and {self.slope()} is the slope.\""
   ]
  },
  {
   "cell_type": "code",
   "execution_count": 33,
   "id": "19d9ff1f",
   "metadata": {},
   "outputs": [
    {
     "name": "stdout",
     "output_type": "stream",
     "text": [
      "5.0 is the distance and 1.3333333333333333 is the slope.\n",
      "9.433981132056603 is the distance and 1.6 is the slope.\n"
     ]
    }
   ],
   "source": [
    "l1=Line((3,4),(0,0))\n",
    "print(l1)\n",
    "coordinate1 = (3,2)\n",
    "coordinate2 = (8,10)\n",
    "\n",
    "li = Line(coordinate1,coordinate2)\n",
    "print(li)"
   ]
  },
  {
   "cell_type": "code",
   "execution_count": 31,
   "id": "e35aaca9",
   "metadata": {},
   "outputs": [],
   "source": [
    "class Cylinder:\n",
    "    \n",
    "    pi=3.14\n",
    "    def __init__(self,height=1,radius=1):\n",
    "        self.a=height\n",
    "        self.b=radius\n",
    "        \n",
    "    def volume(self):\n",
    "        vol = self.a*self.b*self.b*Cylinder.pi\n",
    "        return vol\n",
    "    \n",
    "    def surface_area(self):\n",
    "        sur = 2*Cylinder.pi*(self.a+self.b)*self.b\n",
    "        return sur\n",
    "    def __str__(self):\n",
    "        return f\"{self.volume()} is the volume and {self.surface_area()} is the surface area.\"\n",
    "    "
   ]
  },
  {
   "cell_type": "code",
   "execution_count": 32,
   "id": "8f2c6b84",
   "metadata": {},
   "outputs": [
    {
     "name": "stdout",
     "output_type": "stream",
     "text": [
      "56.52 is the volume and 94.2 is the surface area.\n"
     ]
    }
   ],
   "source": [
    "c = Cylinder(2,3)\n",
    "print(c)"
   ]
  },
  {
   "cell_type": "code",
   "execution_count": 50,
   "id": "ecf5552c",
   "metadata": {},
   "outputs": [],
   "source": [
    "#OOP Challenge\n",
    "class Account():\n",
    "    def __init__(self,owner,balance):\n",
    "        self.owner=owner\n",
    "        self.balance=balance\n",
    "    def deposit(self,dep):\n",
    "        dep=dep+self.balance\n",
    "        self.balance=dep\n",
    "        print(\"Amount in bank is {}\".format(dep))\n",
    "    def withdraw(self,wd):\n",
    "        if(wd>self.balance):\n",
    "            print(\"Amount withdrawn is more than balance.\")\n",
    "        else:\n",
    "            wd=self.balance-wd\n",
    "            self.balance=wd\n",
    "            print(\"Amount in bank is {}\".format(wd))\n",
    "    def __str__(self):\n",
    "        return f\"{self.owner} has {self.balance} money in bank.\"\n",
    "    \n",
    "    \n",
    "    "
   ]
  },
  {
   "cell_type": "code",
   "execution_count": 51,
   "id": "68272e77",
   "metadata": {},
   "outputs": [],
   "source": [
    "acct1 = Account('Jose',100)"
   ]
  },
  {
   "cell_type": "code",
   "execution_count": 52,
   "id": "c451782c",
   "metadata": {},
   "outputs": [
    {
     "name": "stdout",
     "output_type": "stream",
     "text": [
      "Jose has 100 money in bank.\n"
     ]
    }
   ],
   "source": [
    "print(acct1)"
   ]
  },
  {
   "cell_type": "code",
   "execution_count": 53,
   "id": "bf82f656",
   "metadata": {},
   "outputs": [
    {
     "data": {
      "text/plain": [
       "'Jose'"
      ]
     },
     "execution_count": 53,
     "metadata": {},
     "output_type": "execute_result"
    }
   ],
   "source": [
    "acct1.owner"
   ]
  },
  {
   "cell_type": "code",
   "execution_count": 54,
   "id": "98e1dcfd",
   "metadata": {},
   "outputs": [
    {
     "data": {
      "text/plain": [
       "100"
      ]
     },
     "execution_count": 54,
     "metadata": {},
     "output_type": "execute_result"
    }
   ],
   "source": [
    "acct1.balance"
   ]
  },
  {
   "cell_type": "code",
   "execution_count": 55,
   "id": "fbca0df2",
   "metadata": {},
   "outputs": [
    {
     "name": "stdout",
     "output_type": "stream",
     "text": [
      "Amount in bank is 150\n"
     ]
    }
   ],
   "source": [
    "acct1.deposit(50)"
   ]
  },
  {
   "cell_type": "code",
   "execution_count": 56,
   "id": "2f10308d",
   "metadata": {},
   "outputs": [
    {
     "name": "stdout",
     "output_type": "stream",
     "text": [
      "Amount in bank is 75\n"
     ]
    }
   ],
   "source": [
    "acct1.withdraw(75)"
   ]
  },
  {
   "cell_type": "code",
   "execution_count": 57,
   "id": "86e3384a",
   "metadata": {},
   "outputs": [
    {
     "name": "stdout",
     "output_type": "stream",
     "text": [
      "Amount withdrawn is more than balance.\n"
     ]
    }
   ],
   "source": [
    "acct1.withdraw(500)"
   ]
  },
  {
   "cell_type": "code",
   "execution_count": null,
   "id": "47670db4",
   "metadata": {},
   "outputs": [],
   "source": []
  }
 ],
 "metadata": {
  "kernelspec": {
   "display_name": "Python 3",
   "language": "python",
   "name": "python3"
  },
  "language_info": {
   "codemirror_mode": {
    "name": "ipython",
    "version": 3
   },
   "file_extension": ".py",
   "mimetype": "text/x-python",
   "name": "python",
   "nbconvert_exporter": "python",
   "pygments_lexer": "ipython3",
   "version": "3.8.8"
  }
 },
 "nbformat": 4,
 "nbformat_minor": 5
}
